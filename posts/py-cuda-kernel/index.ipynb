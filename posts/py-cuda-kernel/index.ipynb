{
  "cells": [
    {
      "cell_type": "markdown",
      "metadata": {
        "id": "aMQVTY-BIKaT"
      },
      "source": [
        "---\n",
        "badges: true\n",
        "categories:\n",
        "- cuda\n",
        "- python\n",
        "date: '2024-03-16'\n",
        "title: Benchmark CUDA kernel with Python\n",
        "image: gpu.jpeg\n",
        "toc: false\n",
        "---"
      ]
    },
    {
      "cell_type": "markdown",
      "metadata": {
        "id": "uiBjexqyIPPT"
      },
      "source": [
        "In this tutorial, we'll see the impact of block size on the performance of a CUDA kernel. We'll use `subprocess` module in Python standard library to compile and execute a CUDA program which is defined in runtime."
      ]
    },
    {
      "cell_type": "markdown",
      "metadata": {
        "id": "AfxPSCnfI3oN"
      },
      "source": [
        "Let's first verify that the device has a NVIDIA GPU and CUDA."
      ]
    },
    {
      "cell_type": "code",
      "execution_count": 6,
      "metadata": {
        "colab": {
          "base_uri": "https://localhost:8080/"
        },
        "id": "0Yqs1-zF9xB5",
        "outputId": "bc110a97-1261-4bfe-b70a-c2133b65043a"
      },
      "outputs": [
        {
          "name": "stdout",
          "output_type": "stream",
          "text": [
            "Sat Mar 16 12:09:47 2024       \n",
            "+---------------------------------------------------------------------------------------+\n",
            "| NVIDIA-SMI 535.104.05             Driver Version: 535.104.05   CUDA Version: 12.2     |\n",
            "|-----------------------------------------+----------------------+----------------------+\n",
            "| GPU  Name                 Persistence-M | Bus-Id        Disp.A | Volatile Uncorr. ECC |\n",
            "| Fan  Temp   Perf          Pwr:Usage/Cap |         Memory-Usage | GPU-Util  Compute M. |\n",
            "|                                         |                      |               MIG M. |\n",
            "|=========================================+======================+======================|\n",
            "|   0  Tesla T4                       Off | 00000000:00:04.0 Off |                    0 |\n",
            "| N/A   48C    P0              32W /  70W |      0MiB / 15360MiB |      0%      Default |\n",
            "|                                         |                      |                  N/A |\n",
            "+-----------------------------------------+----------------------+----------------------+\n",
            "                                                                                         \n",
            "+---------------------------------------------------------------------------------------+\n",
            "| Processes:                                                                            |\n",
            "|  GPU   GI   CI        PID   Type   Process name                            GPU Memory |\n",
            "|        ID   ID                                                             Usage      |\n",
            "|=======================================================================================|\n",
            "|  No running processes found                                                           |\n",
            "+---------------------------------------------------------------------------------------+\n"
          ]
        }
      ],
      "source": [
        "#| code-fold: true\n",
        "!nvidia-smi"
      ]
    },
    {
      "cell_type": "markdown",
      "metadata": {
        "id": "iGjIjuiTJJRU"
      },
      "source": [
        "We'll use a simple vector addition kernel which will be executed in parallel by many threads in multiple blocks on the GPU. The whole program is defined as a string. We'll replace BLOCKS_SIZE variable in runtime to try different block size values.\n",
        "\n"
      ]
    },
    {
      "cell_type": "code",
      "execution_count": 3,
      "metadata": {
        "id": "e0aNZ4reBtPX"
      },
      "outputs": [],
      "source": [
        "TEMPLATE = r\"\"\"\n",
        "#include <stdio.h>\n",
        "#include <stdlib.h>\n",
        "#include <time.h>\n",
        "#include <cuda.h>\n",
        "\n",
        "__global__ void vector_addition_kernel(float *a, float *b, float *out, int N)\n",
        "{\n",
        "    int i = blockIdx.x * blockDim.x + threadIdx.x;\n",
        "\n",
        "    if (i < N)\n",
        "    {\n",
        "        out[i] = a[i] + b[i];\n",
        "    }\n",
        "}\n",
        "\n",
        "int main(void)\n",
        "{\n",
        "\n",
        "    const int N = 1 << 28; // Number of elements in arrays\n",
        "    float *a, *b, *out;\n",
        "    float *a_d, *b_d, *out_d;\n",
        "\n",
        "    int BLOCK_SIZE = 1;\n",
        "    int NUM_BLOCKS = N / BLOCK_SIZE + (N % BLOCK_SIZE == 0 ? 0 : 1);\n",
        "\n",
        "    dim3 BLOCK_SIZE_DIM3 = dim3(BLOCK_SIZE, 1, 1);\n",
        "    dim3 NUM_BLOCKS_DIM3 = dim3(NUM_BLOCKS, 1, 1);\n",
        "\n",
        "    size_t size = N * sizeof(float);\n",
        "\n",
        "    // Allocate memory\n",
        "    a = (float *)malloc(size);\n",
        "    b = (float *)malloc(size);\n",
        "    out = (float *)malloc(size);\n",
        "\n",
        "    cudaMalloc(&a_d, size);\n",
        "    cudaMalloc(&b_d, size);\n",
        "    cudaMalloc(&out_d, size);\n",
        "\n",
        "    // Fill arrays with random values\n",
        "    for (int i = 0; i < N; i++)\n",
        "    {\n",
        "        a[i] = rand() / (float)RAND_MAX;\n",
        "        b[i] = rand() / (float)RAND_MAX;\n",
        "    }\n",
        "\n",
        "    cudaMemcpy(a_d, a, size, cudaMemcpyHostToDevice);\n",
        "    cudaMemcpy(b_d, b, size, cudaMemcpyHostToDevice);\n",
        "\n",
        "    clock_t start = clock();\n",
        "\n",
        "    vector_addition_kernel<<<NUM_BLOCKS_DIM3, BLOCK_SIZE_DIM3>>>(a_d, b_d, out_d, N);\n",
        "    cudaDeviceSynchronize();\n",
        "\n",
        "    clock_t end = clock();\n",
        "    double elapsed_time_ms = 1000 * (double)(end - start) / CLOCKS_PER_SEC;\n",
        "    printf(\"Elapsed time: %f ms\\n\", N, elapsed_time_ms);\n",
        "\n",
        "    cudaMemcpy(out, out_d, size, cudaMemcpyDeviceToHost);\n",
        "\n",
        "    // cleanup the host memory\n",
        "    free(a);\n",
        "    free(b);\n",
        "    free(out);\n",
        "\n",
        "    cudaFree(a_d);\n",
        "    cudaFree(b_d);\n",
        "    cudaFree(out_d);\n",
        "}\n",
        "\"\"\""
      ]
    },
    {
      "cell_type": "code",
      "execution_count": 4,
      "metadata": {
        "id": "psPF-enOBiVq"
      },
      "outputs": [],
      "source": [
        "import subprocess\n",
        "import re\n",
        "import matplotlib.pyplot as plt\n",
        "\n",
        "def run_cuda_code(code: str):\n",
        "    # Save the generated CUDA code to a file\n",
        "    with open(\"program.cu\", \"w\") as f:\n",
        "        f.write(code)\n",
        "\n",
        "    # Compile the CUDA code\n",
        "    subprocess.run([\"nvcc\", \"-o\", \"program\", \"program.cu\"], check=True)\n",
        "\n",
        "    # Run the compiled executable and capture its output\n",
        "    result = subprocess.run([\"./program\"], capture_output=True, text=True)\n",
        "\n",
        "    # Extract the execution time from the output\n",
        "    execution_time = float(re.search(r\"Elapsed time: (\\d+\\.\\d+) ms\", result.stdout).group(1))\n",
        "    return execution_time\n",
        "\n",
        "block_sizes = [2**i for i in range(11)]\n",
        "execution_times = []\n",
        "\n",
        "for block_size in block_sizes:\n",
        "    code = TEMPLATE.replace(\"int BLOCK_SIZE = 1;\", f\"int BLOCK_SIZE = {block_size};\")\n",
        "    execution_time = run_cuda_code(code)\n",
        "    execution_times.append(execution_time)"
      ]
    },
    {
      "cell_type": "code",
      "execution_count": 5,
      "metadata": {
        "colab": {
          "base_uri": "https://localhost:8080/",
          "height": 564
        },
        "id": "3Z61yqHdC3Jo",
        "outputId": "25535477-48a4-4fc4-fa21-79761d2df638"
      },
      "outputs": [
        {
          "data": {
            "image/png": "[encoded data removed]",
            "text/plain": [
              "<Figure size 1000x600 with 1 Axes>"
            ]
          },
          "metadata": {},
          "output_type": "display_data"
        }
      ],
      "source": [
        "import math\n",
        "\n",
        "plt.figure(figsize=(10, 6))\n",
        "plt.plot(block_sizes, execution_times, marker='o', linestyle='-', color='b')\n",
        "plt.xscale(\"log\")\n",
        "plt.title('Program Execution Time by Block Size')\n",
        "plt.xlabel('Block Size')\n",
        "plt.ylabel('Execution Time (ms)')\n",
        "plt.xticks(block_sizes, labels=[f\"2^{int(math.log(block_size, 2))}\" for block_size in block_sizes])\n",
        "plt.grid(True)\n",
        "plt.show()"
      ]
    },
    {
      "cell_type": "markdown",
      "metadata": {
        "id": "Cj5nag9KNJsy"
      },
      "source": [
        "The figure above shows a decrease in execution time with bigger block size until it hits 64 threads. Beyond this point, there's a noticeable plateau, signifying no further gains in speed."
      ]
    },
    {
      "cell_type": "markdown",
      "metadata": {},
      "source": []
    }
  ],
  "metadata": {
    "accelerator": "GPU",
    "colab": {
      "gpuType": "T4",
      "provenance": []
    },
    "kernelspec": {
      "display_name": "Python 3",
      "name": "python3"
    },
    "language_info": {
      "name": "python"
    }
  },
  "nbformat": 4,
  "nbformat_minor": 0
}
